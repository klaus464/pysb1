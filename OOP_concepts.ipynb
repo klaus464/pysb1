{
 "cells": [
  {
   "attachments": {},
   "cell_type": "markdown",
   "metadata": {},
   "source": [
    "# Object-Oriented Concepts"
   ]
  },
  {
   "attachments": {},
   "cell_type": "markdown",
   "metadata": {},
   "source": [
    "## Abstraction\n",
    "\n",
    "Hiding the implementation or behaviour is know as abstraction.\n",
    "\n",
    "- Abstract Class\n",
    "    - A class which inherits ABC and have atleast one abstract method is known as Abstract Class\n",
    "    - Abstratc Classes cannot be instantiated i.e. Objects cannot be created\n",
    "    - An abstract class can contain both abstract or normal(non-abstract) methods\n",
    "- Abstract Method\n",
    "    - A method which is declared as abstract method using decorator @abstractmethod is know as Abstract method\n",
    "    - Where the method is defined immediatiely after the decorator\n",
    "python doesn't support abstration we implement abstraction using or importing ABSTRACT BASE CLASS\n",
    "\n",
    "## Encapsulation\n",
    "\n",
    "- Wrapping data and methods\n",
    "- Restriction on access\n",
    "\n",
    "### Protected members\n",
    "\n",
    "- Cannot be accessed outside the class\n",
    "- Can be accessed within the class and its subclass"
   ]
  },
  {
   "attachments": {},
   "cell_type": "markdown",
   "metadata": {},
   "source": [
    "## Polymorphism\n",
    "\n",
    "1. Duck Typing\n",
    "2. Operator Overloading\n",
    "3. Method Overloading\n",
    "4. Method Overriding\n",
    "\n",
    "### Duck Typing\n",
    "\n",
    "If it looks like duck, walks like duck, quacks like duck then it must be a duck\n",
    "\n",
    "when an object is a able to acquire properties of another object it is known as Duct Typing.\n",
    "\n",
    "### Method Overloading\n",
    "\n",
    "Python does not support method overloading as thier can only be one function with a specific identifier, but method overloading can be obatined by changing the control flow of that function.\n",
    "\n",
    "### Operator Overloading\n",
    "\n",
    "In python operators also lead to function calls and these special functions can be overloaded by implying them in different classes.\n",
    "\n",
    "Note: which function\n",
    "\n",
    "### Method Overriding\n"
   ]
  },
  {
   "attachments": {},
   "cell_type": "markdown",
   "metadata": {},
   "source": [
    "## Types of methods"
   ]
  },
  {
   "attachments": {},
   "cell_type": "markdown",
   "metadata": {},
   "source": [
    "### Instance Method\n",
    "\n",
    "- It has the first default argument as \"self\" which is an instance of the class.\n",
    "\n",
    "- Is accessed through an instance of the class.\n",
    "\n",
    "- can make changes to the Object\n",
    "\n",
    "- does not require annotations"
   ]
  },
  {
   "cell_type": "code",
   "execution_count": null,
   "metadata": {},
   "outputs": [],
   "source": [
    "class Food:\n",
    "    Restraunt = \"CMR Canteen\"\n",
    "    def __init__(self, starter, main_course, desert):\n",
    "        self.starter = starter\n",
    "        self.main_course = main_course\n",
    "        self.desert = desert\n",
    "\n",
    "    \n",
    "\n",
    "    def get_starter(self):\n",
    "        return self.starter\n",
    "    \n",
    "    def set_starter(self, x):\n",
    "        self.starter = x\n",
    "\n",
    "    def display(self):\n",
    "        print(\"Starte:- {}, Maincourse:- {}, Desert:- {}\".format(self.starter, self.main_course, self.desert))\n",
    "\n",
    "meal1 = Food(\"Manchurian\", \"Chicken Biryani\", \"Brownies\")\n",
    "meal2 = Food(\"Chilli Chicken\", \"PBM & Nan\", \"Gulab Jamoon\")\n",
    "\n",
    "print(meal1.get_starter())\n",
    "meal1.set_starter(\"Kababs\")\n",
    "print(meal1.get_starter())\n",
    "\n",
    "meal1.display()\n"
   ]
  },
  {
   "attachments": {},
   "cell_type": "markdown",
   "metadata": {},
   "source": [
    "### Class Method\n",
    "\n",
    "- It has the first default first argument as \"cls.\n",
    "\n",
    "- Is accessed directly through the class.\n",
    "\n",
    "- can make changes to the class.\n",
    "\n",
    "- has  mandatory @classmethod decorator before it."
   ]
  },
  {
   "cell_type": "code",
   "execution_count": null,
   "metadata": {},
   "outputs": [],
   "source": [
    "class Food:\n",
    "    Restraunt = \"CMR Canteen\"\n",
    "    def __init__(self, starter, main_course, desert):\n",
    "        self.starter = starter\n",
    "        self.main_course = main_course\n",
    "        self.desert = desert\n",
    "    \n",
    "    @classmethod\n",
    "    def food_court(cls):\n",
    "        print(cls.Restraunt)\n",
    "\n",
    "Food.food_court()\n"
   ]
  },
  {
   "attachments": {},
   "cell_type": "markdown",
   "metadata": {},
   "source": [
    "### Static method\n",
    "\n",
    "- It doesn't have any mandatory arguments\n",
    "\n",
    "- Is accessed directly through class.\n",
    "\n",
    "- cannot make changes in class\n",
    "\n",
    "- has mandatory @staticmethod decorator before it."
   ]
  },
  {
   "cell_type": "code",
   "execution_count": null,
   "metadata": {},
   "outputs": [],
   "source": [
    "class Food:\n",
    "    Restraunt = \"CMR Canteen\"\n",
    "    def __init__(self, starter, main_course, desert):\n",
    "        self.starter = starter\n",
    "        self.main_course = main_course\n",
    "        self.desert = desert\n",
    "\n",
    "    @staticmethod\n",
    "    def info(x):\n",
    "        print(\"we are in {}\".format(x))\n",
    "\n",
    "Food.info(\"CMRCET\")"
   ]
  }
 ],
 "metadata": {
  "kernelspec": {
   "display_name": "Python 3",
   "language": "python",
   "name": "python3"
  },
  "language_info": {
   "codemirror_mode": {
    "name": "ipython",
    "version": 3
   },
   "file_extension": ".py",
   "mimetype": "text/x-python",
   "name": "python",
   "nbconvert_exporter": "python",
   "pygments_lexer": "ipython3",
   "version": "3.11.2"
  },
  "orig_nbformat": 4
 },
 "nbformat": 4,
 "nbformat_minor": 2
}
